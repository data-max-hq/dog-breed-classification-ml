{
 "cells": [
  {
   "cell_type": "code",
   "execution_count": 1,
   "id": "194eac0d",
   "metadata": {},
   "outputs": [
    {
     "name": "stdout",
     "output_type": "stream",
     "text": [
      "--2022-07-19 11:12:02--  https://s3-us-west-1.amazonaws.com/udacity-aind/dog-project/dogImages.zip\n",
      "Resolving s3-us-west-1.amazonaws.com (s3-us-west-1.amazonaws.com)... 52.219.120.208\n",
      "Connecting to s3-us-west-1.amazonaws.com (s3-us-west-1.amazonaws.com)|52.219.120.208|:443... connected.\n",
      "HTTP request sent, awaiting response... 200 OK\n",
      "Length: 1132023110 (1,1G) [application/zip]\n",
      "Saving to: ‘dogImages.zip’\n",
      "\n",
      "dogImages.zip       100%[===================>]   1,05G  15,0MB/s    in 86s     \n",
      "\n",
      "2022-07-19 11:13:29 (12,6 MB/s) - ‘dogImages.zip’ saved [1132023110/1132023110]\n",
      "\n"
     ]
    }
   ],
   "source": [
    "!wget https://s3-us-west-1.amazonaws.com/udacity-aind/dog-project/dogImages.zip\n",
    "!unzip -qo dogImages.zip\n",
    "!rm dogImages.zip"
   ]
  },
  {
   "cell_type": "code",
   "execution_count": 4,
   "id": "ab466c36",
   "metadata": {},
   "outputs": [
    {
     "name": "stdout",
     "output_type": "stream",
     "text": [
      "Collecting pillow==7.2.0\n",
      "  Downloading Pillow-7.2.0-cp38-cp38-manylinux1_x86_64.whl (2.2 MB)\n",
      "\u001b[2K     \u001b[38;2;114;156;31m━━━━━━━━━━━━━━━━━━━━━━━━━━━━━━━━━━━━━━━━\u001b[0m \u001b[32m2.2/2.2 MB\u001b[0m \u001b[31m12.2 MB/s\u001b[0m eta \u001b[36m0:00:00\u001b[0m31m12.3 MB/s\u001b[0m eta \u001b[36m0:00:01\u001b[0m\n",
      "\u001b[?25hCollecting tensorflow==2.3.0\n",
      "  Downloading tensorflow-2.3.0-cp38-cp38-manylinux2010_x86_64.whl (320.5 MB)\n",
      "\u001b[2K     \u001b[38;2;114;156;31m━━━━━━━━━━━━━━━━━━━━━━━━━━━━━━━━━━━━━━━\u001b[0m \u001b[32m320.5/320.5 MB\u001b[0m \u001b[31m5.8 MB/s\u001b[0m eta \u001b[36m0:00:00\u001b[0mm eta \u001b[36m0:00:01\u001b[0m[36m0:00:01\u001b[0m\n",
      "\u001b[?25hCollecting matplotlib==3.3.1\n",
      "  Downloading matplotlib-3.3.1-cp38-cp38-manylinux1_x86_64.whl (11.6 MB)\n",
      "\u001b[2K     \u001b[38;2;114;156;31m━━━━━━━━━━━━━━━━━━━━━━━━━━━━━━━━━━━━━━━━\u001b[0m \u001b[32m11.6/11.6 MB\u001b[0m \u001b[31m30.9 MB/s\u001b[0m eta \u001b[36m0:00:00\u001b[0mm eta \u001b[36m0:00:01\u001b[0m[36m0:00:01\u001b[0m\n",
      "\u001b[?25hCollecting tensorboard<3,>=2.3.0\n",
      "  Downloading tensorboard-2.9.1-py3-none-any.whl (5.8 MB)\n",
      "\u001b[2K     \u001b[38;2;114;156;31m━━━━━━━━━━━━━━━━━━━━━━━━━━━━━━━━━━━━━━━━\u001b[0m \u001b[32m5.8/5.8 MB\u001b[0m \u001b[31m31.9 MB/s\u001b[0m eta \u001b[36m0:00:00\u001b[0mm eta \u001b[36m0:00:01\u001b[0m0:01\u001b[0m:01\u001b[0m\n",
      "\u001b[?25hCollecting numpy<1.19.0,>=1.16.0\n",
      "  Downloading numpy-1.18.5-cp38-cp38-manylinux1_x86_64.whl (20.6 MB)\n",
      "\u001b[2K     \u001b[38;2;114;156;31m━━━━━━━━━━━━━━━━━━━━━━━━━━━━━━━━━━━━━━━━\u001b[0m \u001b[32m20.6/20.6 MB\u001b[0m \u001b[31m29.1 MB/s\u001b[0m eta \u001b[36m0:00:00\u001b[0mm eta \u001b[36m0:00:01\u001b[0m0:01\u001b[0m:01\u001b[0m\n",
      "\u001b[?25hCollecting scipy==1.4.1\n",
      "  Downloading scipy-1.4.1-cp38-cp38-manylinux1_x86_64.whl (26.0 MB)\n",
      "\u001b[2K     \u001b[38;2;114;156;31m━━━━━━━━━━━━━━━━━━━━━━━━━━━━━━━━━━━━━━━━\u001b[0m \u001b[32m26.0/26.0 MB\u001b[0m \u001b[31m27.2 MB/s\u001b[0m eta \u001b[36m0:00:00\u001b[0mm eta \u001b[36m0:00:01\u001b[0m0:01\u001b[0m:01\u001b[0m\n",
      "\u001b[?25hCollecting h5py<2.11.0,>=2.10.0\n",
      "  Downloading h5py-2.10.0-cp38-cp38-manylinux1_x86_64.whl (2.9 MB)\n",
      "\u001b[2K     \u001b[38;2;114;156;31m━━━━━━━━━━━━━━━━━━━━━━━━━━━━━━━━━━━━━━━━\u001b[0m \u001b[32m2.9/2.9 MB\u001b[0m \u001b[31m31.4 MB/s\u001b[0m eta \u001b[36m0:00:00\u001b[0mm eta \u001b[36m0:00:01\u001b[0m[36m0:00:01\u001b[0m\n",
      "\u001b[?25hRequirement already satisfied: absl-py>=0.7.0 in ./venv/lib/python3.8/site-packages (from tensorflow==2.3.0->-r requirements.txt (line 2)) (1.1.0)\n",
      "Collecting google-pasta>=0.1.8\n",
      "  Downloading google_pasta-0.2.0-py3-none-any.whl (57 kB)\n",
      "\u001b[2K     \u001b[38;2;114;156;31m━━━━━━━━━━━━━━━━━━━━━━━━━━━━━━━━━━━━━━━━\u001b[0m \u001b[32m57.5/57.5 KB\u001b[0m \u001b[31m11.8 MB/s\u001b[0m eta \u001b[36m0:00:00\u001b[0m\n",
      "\u001b[?25hRequirement already satisfied: protobuf>=3.9.2 in ./venv/lib/python3.8/site-packages (from tensorflow==2.3.0->-r requirements.txt (line 2)) (3.20.1)\n",
      "Collecting tensorflow-estimator<2.4.0,>=2.3.0\n",
      "  Downloading tensorflow_estimator-2.3.0-py2.py3-none-any.whl (459 kB)\n",
      "\u001b[2K     \u001b[38;2;114;156;31m━━━━━━━━━━━━━━━━━━━━━━━━━━━━━━━━━━━━━━\u001b[0m \u001b[32m459.0/459.0 KB\u001b[0m \u001b[31m41.4 MB/s\u001b[0m eta \u001b[36m0:00:00\u001b[0m\n",
      "\u001b[?25hRequirement already satisfied: wheel>=0.26 in ./venv/lib/python3.8/site-packages (from tensorflow==2.3.0->-r requirements.txt (line 2)) (0.37.1)\n",
      "Collecting grpcio>=1.8.6\n",
      "  Downloading grpcio-1.47.0-cp38-cp38-manylinux_2_17_x86_64.manylinux2014_x86_64.whl (4.5 MB)\n",
      "\u001b[2K     \u001b[38;2;114;156;31m━━━━━━━━━━━━━━━━━━━━━━━━━━━━━━━━━━━━━━━━\u001b[0m \u001b[32m4.5/4.5 MB\u001b[0m \u001b[31m23.5 MB/s\u001b[0m eta \u001b[36m0:00:00\u001b[0mm eta \u001b[36m0:00:01\u001b[0m[36m0:00:01\u001b[0m\n",
      "\u001b[?25hRequirement already satisfied: wrapt>=1.11.1 in ./venv/lib/python3.8/site-packages (from tensorflow==2.3.0->-r requirements.txt (line 2)) (1.14.1)\n",
      "Collecting keras-preprocessing<1.2,>=1.1.1\n",
      "  Downloading Keras_Preprocessing-1.1.2-py2.py3-none-any.whl (42 kB)\n",
      "\u001b[2K     \u001b[38;2;114;156;31m━━━━━━━━━━━━━━━━━━━━━━━━━━━━━━━━━━━━━━━━\u001b[0m \u001b[32m42.6/42.6 KB\u001b[0m \u001b[31m7.6 MB/s\u001b[0m eta \u001b[36m0:00:00\u001b[0m\n",
      "\u001b[?25hRequirement already satisfied: six>=1.12.0 in ./venv/lib/python3.8/site-packages (from tensorflow==2.3.0->-r requirements.txt (line 2)) (1.16.0)\n",
      "Collecting opt-einsum>=2.3.2\n",
      "  Downloading opt_einsum-3.3.0-py3-none-any.whl (65 kB)\n",
      "\u001b[2K     \u001b[38;2;114;156;31m━━━━━━━━━━━━━━━━━━━━━━━━━━━━━━━━━━━━━━━━\u001b[0m \u001b[32m65.5/65.5 KB\u001b[0m \u001b[31m12.6 MB/s\u001b[0m eta \u001b[36m0:00:00\u001b[0m\n",
      "\u001b[?25hRequirement already satisfied: termcolor>=1.1.0 in ./venv/lib/python3.8/site-packages (from tensorflow==2.3.0->-r requirements.txt (line 2)) (1.1.0)\n",
      "Collecting astunparse==1.6.3\n",
      "  Downloading astunparse-1.6.3-py2.py3-none-any.whl (12 kB)\n",
      "Collecting gast==0.3.3\n",
      "  Downloading gast-0.3.3-py2.py3-none-any.whl (9.7 kB)\n",
      "Requirement already satisfied: python-dateutil>=2.1 in ./venv/lib/python3.8/site-packages (from matplotlib==3.3.1->-r requirements.txt (line 3)) (2.8.2)\n",
      "Collecting kiwisolver>=1.0.1\n",
      "  Downloading kiwisolver-1.4.4-cp38-cp38-manylinux_2_5_x86_64.manylinux1_x86_64.whl (1.2 MB)\n",
      "\u001b[2K     \u001b[38;2;114;156;31m━━━━━━━━━━━━━━━━━━━━━━━━━━━━━━━━━━━━━━━━\u001b[0m \u001b[32m1.2/1.2 MB\u001b[0m \u001b[31m30.8 MB/s\u001b[0m eta \u001b[36m0:00:00\u001b[0mm eta \u001b[36m0:00:01\u001b[0m\n",
      "\u001b[?25hRequirement already satisfied: certifi>=2020.06.20 in ./venv/lib/python3.8/site-packages (from matplotlib==3.3.1->-r requirements.txt (line 3)) (2022.6.15)\n",
      "Collecting cycler>=0.10\n",
      "  Downloading cycler-0.11.0-py3-none-any.whl (6.4 kB)\n",
      "Requirement already satisfied: pyparsing!=2.0.4,!=2.1.2,!=2.1.6,>=2.0.3 in ./venv/lib/python3.8/site-packages (from matplotlib==3.3.1->-r requirements.txt (line 3)) (3.0.9)\n",
      "Collecting tensorboard-plugin-wit>=1.6.0\n",
      "  Downloading tensorboard_plugin_wit-1.8.1-py3-none-any.whl (781 kB)\n",
      "\u001b[2K     \u001b[38;2;114;156;31m━━━━━━━━━━━━━━━━━━━━━━━━━━━━━━━━━━━━━━\u001b[0m \u001b[32m781.3/781.3 KB\u001b[0m \u001b[31m30.7 MB/s\u001b[0m eta \u001b[36m0:00:00\u001b[0m\n",
      "\u001b[?25hRequirement already satisfied: requests<3,>=2.21.0 in ./venv/lib/python3.8/site-packages (from tensorboard<3,>=2.3.0->tensorflow==2.3.0->-r requirements.txt (line 2)) (2.28.1)\n",
      "Collecting protobuf>=3.9.2\n",
      "  Downloading protobuf-3.19.4-cp38-cp38-manylinux_2_17_x86_64.manylinux2014_x86_64.whl (1.1 MB)\n",
      "\u001b[2K     \u001b[38;2;114;156;31m━━━━━━━━━━━━━━━━━━━━━━━━━━━━━━━━━━━━━━━━\u001b[0m \u001b[32m1.1/1.1 MB\u001b[0m \u001b[31m14.0 MB/s\u001b[0m eta \u001b[36m0:00:00\u001b[0mm eta \u001b[36m0:00:01\u001b[0m0:01\u001b[0m\n",
      "\u001b[?25hCollecting google-auth-oauthlib<0.5,>=0.4.1\n",
      "  Downloading google_auth_oauthlib-0.4.6-py2.py3-none-any.whl (18 kB)\n",
      "Collecting tensorboard-data-server<0.7.0,>=0.6.0\n",
      "  Downloading tensorboard_data_server-0.6.1-py3-none-manylinux2010_x86_64.whl (4.9 MB)\n",
      "\u001b[2K     \u001b[38;2;114;156;31m━━━━━━━━━━━━━━━━━━━━━━━━━━━━━━━━━━━━━━━━\u001b[0m \u001b[32m4.9/4.9 MB\u001b[0m \u001b[31m29.7 MB/s\u001b[0m eta \u001b[36m0:00:00\u001b[0mm eta \u001b[36m0:00:01\u001b[0m[36m0:00:01\u001b[0m\n",
      "\u001b[?25hCollecting werkzeug>=1.0.1\n",
      "  Downloading Werkzeug-2.1.2-py3-none-any.whl (224 kB)\n",
      "\u001b[2K     \u001b[38;2;114;156;31m━━━━━━━━━━━━━━━━━━━━━━━━━━━━━━━━━━━━━━\u001b[0m \u001b[32m224.9/224.9 KB\u001b[0m \u001b[31m16.5 MB/s\u001b[0m eta \u001b[36m0:00:00\u001b[0m\n",
      "\u001b[?25hCollecting markdown>=2.6.8\n",
      "  Downloading Markdown-3.4.1-py3-none-any.whl (93 kB)\n",
      "\u001b[2K     \u001b[38;2;114;156;31m━━━━━━━━━━━━━━━━━━━━━━━━━━━━━━━━━━━━━━━━\u001b[0m \u001b[32m93.3/93.3 KB\u001b[0m \u001b[31m16.2 MB/s\u001b[0m eta \u001b[36m0:00:00\u001b[0m\n",
      "\u001b[?25hRequirement already satisfied: setuptools>=41.0.0 in ./venv/lib/python3.8/site-packages (from tensorboard<3,>=2.3.0->tensorflow==2.3.0->-r requirements.txt (line 2)) (56.0.0)\n",
      "Requirement already satisfied: google-auth<3,>=1.6.3 in ./venv/lib/python3.8/site-packages (from tensorboard<3,>=2.3.0->tensorflow==2.3.0->-r requirements.txt (line 2)) (1.35.0)\n",
      "Requirement already satisfied: pyasn1-modules>=0.2.1 in ./venv/lib/python3.8/site-packages (from google-auth<3,>=1.6.3->tensorboard<3,>=2.3.0->tensorflow==2.3.0->-r requirements.txt (line 2)) (0.2.8)\n",
      "Requirement already satisfied: cachetools<5.0,>=2.0.0 in ./venv/lib/python3.8/site-packages (from google-auth<3,>=1.6.3->tensorboard<3,>=2.3.0->tensorflow==2.3.0->-r requirements.txt (line 2)) (4.2.4)\n",
      "Requirement already satisfied: rsa<5,>=3.1.4 in ./venv/lib/python3.8/site-packages (from google-auth<3,>=1.6.3->tensorboard<3,>=2.3.0->tensorflow==2.3.0->-r requirements.txt (line 2)) (4.8)\n",
      "Requirement already satisfied: requests-oauthlib>=0.7.0 in ./venv/lib/python3.8/site-packages (from google-auth-oauthlib<0.5,>=0.4.1->tensorboard<3,>=2.3.0->tensorflow==2.3.0->-r requirements.txt (line 2)) (1.3.1)\n",
      "Collecting importlib-metadata>=4.4\n",
      "  Downloading importlib_metadata-4.12.0-py3-none-any.whl (21 kB)\n",
      "Requirement already satisfied: charset-normalizer<3,>=2 in ./venv/lib/python3.8/site-packages (from requests<3,>=2.21.0->tensorboard<3,>=2.3.0->tensorflow==2.3.0->-r requirements.txt (line 2)) (2.1.0)\n",
      "Requirement already satisfied: idna<4,>=2.5 in ./venv/lib/python3.8/site-packages (from requests<3,>=2.21.0->tensorboard<3,>=2.3.0->tensorflow==2.3.0->-r requirements.txt (line 2)) (3.3)\n",
      "Requirement already satisfied: urllib3<1.27,>=1.21.1 in ./venv/lib/python3.8/site-packages (from requests<3,>=2.21.0->tensorboard<3,>=2.3.0->tensorflow==2.3.0->-r requirements.txt (line 2)) (1.26.10)\n"
     ]
    },
    {
     "name": "stdout",
     "output_type": "stream",
     "text": [
      "Collecting zipp>=0.5\n",
      "  Downloading zipp-3.8.1-py3-none-any.whl (5.6 kB)\n",
      "Requirement already satisfied: pyasn1<0.5.0,>=0.4.6 in ./venv/lib/python3.8/site-packages (from pyasn1-modules>=0.2.1->google-auth<3,>=1.6.3->tensorboard<3,>=2.3.0->tensorflow==2.3.0->-r requirements.txt (line 2)) (0.4.8)\n",
      "Requirement already satisfied: oauthlib>=3.0.0 in ./venv/lib/python3.8/site-packages (from requests-oauthlib>=0.7.0->google-auth-oauthlib<0.5,>=0.4.1->tensorboard<3,>=2.3.0->tensorflow==2.3.0->-r requirements.txt (line 2)) (3.2.0)\n",
      "Installing collected packages: tensorflow-estimator, tensorboard-plugin-wit, zipp, werkzeug, tensorboard-data-server, protobuf, pillow, numpy, kiwisolver, grpcio, google-pasta, gast, cycler, astunparse, scipy, opt-einsum, matplotlib, keras-preprocessing, importlib-metadata, h5py, markdown, google-auth-oauthlib, tensorboard, tensorflow\n",
      "  Attempting uninstall: protobuf\n",
      "    Found existing installation: protobuf 3.20.1\n",
      "    Uninstalling protobuf-3.20.1:\n",
      "      Successfully uninstalled protobuf-3.20.1\n",
      "Successfully installed astunparse-1.6.3 cycler-0.11.0 gast-0.3.3 google-auth-oauthlib-0.4.6 google-pasta-0.2.0 grpcio-1.47.0 h5py-2.10.0 importlib-metadata-4.12.0 keras-preprocessing-1.1.2 kiwisolver-1.4.4 markdown-3.4.1 matplotlib-3.3.1 numpy-1.18.5 opt-einsum-3.3.0 pillow-7.2.0 protobuf-3.19.4 scipy-1.4.1 tensorboard-2.9.1 tensorboard-data-server-0.6.1 tensorboard-plugin-wit-1.8.1 tensorflow-2.3.0 tensorflow-estimator-2.3.0 werkzeug-2.1.2 zipp-3.8.1\n",
      "\u001b[33mWARNING: You are using pip version 22.0.4; however, version 22.1.2 is available.\n",
      "You should consider upgrading via the '/home/endri/Documents/dog-breed-classification-ml/venv/bin/python3.8 -m pip install --upgrade pip' command.\u001b[0m\u001b[33m\n",
      "\u001b[0m"
     ]
    }
   ],
   "source": [
    "!pip3 install -r requirements.txt"
   ]
  },
  {
   "cell_type": "code",
   "execution_count": 6,
   "id": "07167ed6",
   "metadata": {},
   "outputs": [],
   "source": [
    "import os\n",
    "import numpy as np\n",
    "import tensorflow as tf\n",
    "import matplotlib.pyplot as plt\n",
    "\n",
    "from tensorflow.keras.preprocessing.image import ImageDataGenerator\n",
    "\n",
    "from glob import glob\n",
    "from PIL import Image\n",
    "from PIL import ImageFile\n",
    "\n",
    "\n",
    "ImageFile.LOAD_TRUNCATED_IMAGES = True"
   ]
  },
  {
   "cell_type": "code",
   "execution_count": 8,
   "id": "a8e0ed74",
   "metadata": {},
   "outputs": [],
   "source": [
    "LR = 6e-4\n",
    "BATCH_SIZE = 32\n",
    "NUMBER_OF_NODES = 256\n",
    "EPOCHS = 4\n",
    "IMG_SIZE = 224"
   ]
  },
  {
   "cell_type": "code",
   "execution_count": 9,
   "id": "50073208",
   "metadata": {},
   "outputs": [],
   "source": [
    "def get_train_generator():\n",
    "    data_datagen = ImageDataGenerator(\n",
    "        rescale=1./255,\n",
    "        width_shift_range=.2,\n",
    "        height_shift_range=.2,\n",
    "        brightness_range=[0.5,1.5],\n",
    "        horizontal_flip=True\n",
    "    )\n",
    "    return data_datagen.flow_from_directory(\n",
    "        \"dogImages/train/\",\n",
    "        target_size=(int(IMG_SIZE), int(IMG_SIZE)),\n",
    "        batch_size=int(BATCH_SIZE),\n",
    "        \n",
    "    )\n",
    "\n",
    "def get_valid_generator():\n",
    "    data_datagen = ImageDataGenerator(rescale=1./255)\n",
    "    return data_datagen.flow_from_directory(\n",
    "        \"dogImages/valid/\",\n",
    "        target_size=(int(IMG_SIZE), int(IMG_SIZE)),\n",
    "        batch_size=int(BATCH_SIZE)\n",
    "    )\n",
    "\n",
    "def get_test_generator():\n",
    "    data_datagen = ImageDataGenerator(rescale=1./255)\n",
    "    return data_datagen.flow_from_directory(\n",
    "        \"dogImages/test/\",\n",
    "        target_size=(int(IMG_SIZE), int(IMG_SIZE)),\n",
    "        batch_size=int(BATCH_SIZE)\n",
    "    )"
   ]
  },
  {
   "cell_type": "code",
   "execution_count": 10,
   "id": "af99b530",
   "metadata": {},
   "outputs": [
    {
     "name": "stderr",
     "output_type": "stream",
     "text": [
      "2022-07-19 11:19:31.308134: I tensorflow/core/platform/cpu_feature_guard.cc:142] This TensorFlow binary is optimized with oneAPI Deep Neural Network Library (oneDNN)to use the following CPU instructions in performance-critical operations:  AVX2 FMA\n",
      "To enable them in other operations, rebuild TensorFlow with the appropriate compiler flags.\n",
      "2022-07-19 11:19:31.346089: I tensorflow/core/platform/profile_utils/cpu_utils.cc:104] CPU Frequency: 2096074999 Hz\n",
      "2022-07-19 11:19:31.346869: I tensorflow/compiler/xla/service/service.cc:168] XLA service 0x30f05f0 initialized for platform Host (this does not guarantee that XLA will be used). Devices:\n",
      "2022-07-19 11:19:31.346901: I tensorflow/compiler/xla/service/service.cc:176]   StreamExecutor device (0): Host, Default Version\n",
      "2022-07-19 11:19:31.350220: I tensorflow/core/common_runtime/gpu/gpu_device.cc:1257] Device interconnect StreamExecutor with strength 1 edge matrix:\n",
      "2022-07-19 11:19:31.350303: I tensorflow/core/common_runtime/gpu/gpu_device.cc:1263]      \n"
     ]
    },
    {
     "name": "stdout",
     "output_type": "stream",
     "text": [
      "Downloading data from https://storage.googleapis.com/tensorflow/keras-applications/resnet/resnet50v2_weights_tf_dim_ordering_tf_kernels.h5\n",
      "102875136/102869336 [==============================] - 6s 0us/step\n"
     ]
    }
   ],
   "source": [
    "dog_classifier = tf.keras.applications.ResNet50V2(\n",
    "    weights=\"imagenet\",\n",
    "    input_shape=(int(IMG_SIZE), int(IMG_SIZE), 3)\n",
    ")"
   ]
  },
  {
   "cell_type": "code",
   "execution_count": 11,
   "id": "b0884347",
   "metadata": {},
   "outputs": [],
   "source": [
    "def is_dog(data):\n",
    "    probs = dog_classifier.predict(data)\n",
    "    preds = tf.argmax(probs, axis=1)\n",
    "    return ((preds >= 151) & (preds <= 268))"
   ]
  },
  {
   "cell_type": "code",
   "execution_count": 12,
   "id": "261af4f9",
   "metadata": {},
   "outputs": [
    {
     "name": "stdout",
     "output_type": "stream",
     "text": [
      "Found 6680 images belonging to 133 classes.\n"
     ]
    },
    {
     "name": "stderr",
     "output_type": "stream",
     "text": [
      "2022-07-19 11:21:33.169485: W tensorflow/core/framework/cpu_allocator_impl.cc:81] Allocation of 102760448 exceeds 10% of free system memory.\n",
      "2022-07-19 11:21:33.318628: W tensorflow/core/framework/cpu_allocator_impl.cc:81] Allocation of 106463232 exceeds 10% of free system memory.\n",
      "2022-07-19 11:21:33.427527: W tensorflow/core/framework/cpu_allocator_impl.cc:81] Allocation of 102760448 exceeds 10% of free system memory.\n",
      "2022-07-19 11:21:33.610638: W tensorflow/core/framework/cpu_allocator_impl.cc:81] Allocation of 102760448 exceeds 10% of free system memory.\n",
      "2022-07-19 11:21:33.723782: W tensorflow/core/framework/cpu_allocator_impl.cc:81] Allocation of 102760448 exceeds 10% of free system memory.\n"
     ]
    }
   ],
   "source": [
    "train_generator = get_train_generator()\n",
    "batch = train_generator.next()\n",
    "predictions = is_dog(batch)"
   ]
  },
  {
   "cell_type": "code",
   "execution_count": 13,
   "id": "f72dbb9e",
   "metadata": {},
   "outputs": [
    {
     "name": "stdout",
     "output_type": "stream",
     "text": [
      "100% of the files have a detected dog\n"
     ]
    }
   ],
   "source": [
    "n_dog = np.sum(predictions)\n",
    "dog_percentage = n_dog/int(BATCH_SIZE)\n",
    "\n",
    "print('{:.0%} of the files have a detected dog'.format(dog_percentage))"
   ]
  },
  {
   "cell_type": "code",
   "execution_count": 14,
   "id": "6d3b79ef",
   "metadata": {},
   "outputs": [],
   "source": [
    "model = tf.keras.models.Sequential([\n",
    "    tf.keras.layers.Conv2D(16, 3, activation=\"relu\", input_shape=(int(IMG_SIZE), int(IMG_SIZE), 3)),\n",
    "    tf.keras.layers.MaxPool2D(),\n",
    "    tf.keras.layers.Conv2D(32, 3, activation=\"relu\"),\n",
    "    tf.keras.layers.MaxPool2D(),\n",
    "    tf.keras.layers.Conv2D(64, 3, activation=\"relu\"),\n",
    "    tf.keras.layers.MaxPool2D(),\n",
    "    tf.keras.layers.GlobalAveragePooling2D(),\n",
    "    tf.keras.layers.Dense(int(NUMBER_OF_NODES), activation=\"relu\"),\n",
    "    tf.keras.layers.Dense(133, activation=\"softmax\")\n",
    "])"
   ]
  },
  {
   "cell_type": "code",
   "execution_count": 15,
   "id": "1aa78f5f",
   "metadata": {},
   "outputs": [
    {
     "name": "stdout",
     "output_type": "stream",
     "text": [
      "Model: \"sequential\"\n",
      "_________________________________________________________________\n",
      "Layer (type)                 Output Shape              Param #   \n",
      "=================================================================\n",
      "conv2d (Conv2D)              (None, 222, 222, 16)      448       \n",
      "_________________________________________________________________\n",
      "max_pooling2d_3 (MaxPooling2 (None, 111, 111, 16)      0         \n",
      "_________________________________________________________________\n",
      "conv2d_1 (Conv2D)            (None, 109, 109, 32)      4640      \n",
      "_________________________________________________________________\n",
      "max_pooling2d_4 (MaxPooling2 (None, 54, 54, 32)        0         \n",
      "_________________________________________________________________\n",
      "conv2d_2 (Conv2D)            (None, 52, 52, 64)        18496     \n",
      "_________________________________________________________________\n",
      "max_pooling2d_5 (MaxPooling2 (None, 26, 26, 64)        0         \n",
      "_________________________________________________________________\n",
      "global_average_pooling2d (Gl (None, 64)                0         \n",
      "_________________________________________________________________\n",
      "dense (Dense)                (None, 256)               16640     \n",
      "_________________________________________________________________\n",
      "dense_1 (Dense)              (None, 133)               34181     \n",
      "=================================================================\n",
      "Total params: 74,405\n",
      "Trainable params: 74,405\n",
      "Non-trainable params: 0\n",
      "_________________________________________________________________\n"
     ]
    }
   ],
   "source": [
    "model.summary()"
   ]
  },
  {
   "cell_type": "code",
   "execution_count": 16,
   "id": "53c4902c",
   "metadata": {},
   "outputs": [],
   "source": [
    "model.compile(\n",
    "    optimizer=tf.optimizers.Adam(learning_rate=float(LR)),\n",
    "    loss=tf.losses.categorical_crossentropy,\n",
    "    metrics=[\"accuracy\"]\n",
    ")"
   ]
  },
  {
   "cell_type": "code",
   "execution_count": 17,
   "id": "223c565d",
   "metadata": {},
   "outputs": [
    {
     "name": "stdout",
     "output_type": "stream",
     "text": [
      "Found 6680 images belonging to 133 classes.\n",
      "Found 835 images belonging to 133 classes.\n"
     ]
    },
    {
     "name": "stderr",
     "output_type": "stream",
     "text": [
      "2022-07-19 11:22:57.374419: I tensorflow/core/profiler/lib/profiler_session.cc:164] Profiler session started.\n",
      "2022-07-19 11:22:57.374530: I tensorflow/core/profiler/internal/gpu/cupti_tracer.cc:1391] Profiler found 1 GPUs\n",
      "2022-07-19 11:22:57.374901: W tensorflow/stream_executor/platform/default/dso_loader.cc:59] Could not load dynamic library 'libcupti.so.10.1'; dlerror: libcupti.so.10.1: cannot open shared object file: No such file or directory\n",
      "2022-07-19 11:22:57.374989: W tensorflow/stream_executor/platform/default/dso_loader.cc:59] Could not load dynamic library 'libcupti.so'; dlerror: libcupti.so: cannot open shared object file: No such file or directory\n",
      "2022-07-19 11:22:57.375006: E tensorflow/core/profiler/internal/gpu/cupti_tracer.cc:1441] function cupti_interface_->Subscribe( &subscriber_, (CUpti_CallbackFunc)ApiCallback, this)failed with error CUPTI could not be loaded or symbol could not be found.\n"
     ]
    },
    {
     "name": "stdout",
     "output_type": "stream",
     "text": [
      "Epoch 1/2\n",
      "  1/209 [..............................] - ETA: 0s - loss: 4.8866 - accuracy: 0.0000e+00"
     ]
    },
    {
     "name": "stderr",
     "output_type": "stream",
     "text": [
      "2022-07-19 11:23:02.053377: I tensorflow/core/profiler/lib/profiler_session.cc:164] Profiler session started.\n",
      "2022-07-19 11:23:02.053498: E tensorflow/core/profiler/internal/gpu/cupti_tracer.cc:1441] function cupti_interface_->Subscribe( &subscriber_, (CUpti_CallbackFunc)ApiCallback, this)failed with error CUPTI could not be loaded or symbol could not be found.\n"
     ]
    },
    {
     "name": "stdout",
     "output_type": "stream",
     "text": [
      "WARNING:tensorflow:From /home/endri/Documents/dog-breed-classification-ml/venv/lib/python3.8/site-packages/tensorflow/python/ops/summary_ops_v2.py:1277: stop (from tensorflow.python.eager.profiler) is deprecated and will be removed after 2020-07-01.\n",
      "Instructions for updating:\n",
      "use `tf.profiler.experimental.stop` instead.\n",
      "  2/209 [..............................] - ETA: 2:30 - loss: 4.8937 - accuracy: 0.0000e+00"
     ]
    },
    {
     "name": "stderr",
     "output_type": "stream",
     "text": [
      "2022-07-19 11:23:03.494503: I tensorflow/core/profiler/internal/gpu/device_tracer.cc:223]  GpuTracer has collected 0 callback api events and 0 activity events. \n",
      "2022-07-19 11:23:03.499004: I tensorflow/core/profiler/rpc/client/save_profile.cc:176] Creating directory: custom_classifier_logs/train/plugins/profile/2022_07_19_11_23_03\n",
      "2022-07-19 11:23:03.500363: I tensorflow/core/profiler/rpc/client/save_profile.cc:182] Dumped gzipped tool data for trace.json.gz to custom_classifier_logs/train/plugins/profile/2022_07_19_11_23_03/endri-VivoBook-ASUSLaptop-X570DD-M570DD.trace.json.gz\n",
      "2022-07-19 11:23:03.504385: I tensorflow/core/profiler/rpc/client/save_profile.cc:176] Creating directory: custom_classifier_logs/train/plugins/profile/2022_07_19_11_23_03\n",
      "2022-07-19 11:23:03.504751: I tensorflow/core/profiler/rpc/client/save_profile.cc:182] Dumped gzipped tool data for memory_profile.json.gz to custom_classifier_logs/train/plugins/profile/2022_07_19_11_23_03/endri-VivoBook-ASUSLaptop-X570DD-M570DD.memory_profile.json.gz\n",
      "2022-07-19 11:23:03.505548: I tensorflow/python/profiler/internal/profiler_wrapper.cc:111] Creating directory: custom_classifier_logs/train/plugins/profile/2022_07_19_11_23_03Dumped tool data for xplane.pb to custom_classifier_logs/train/plugins/profile/2022_07_19_11_23_03/endri-VivoBook-ASUSLaptop-X570DD-M570DD.xplane.pb\n",
      "Dumped tool data for overview_page.pb to custom_classifier_logs/train/plugins/profile/2022_07_19_11_23_03/endri-VivoBook-ASUSLaptop-X570DD-M570DD.overview_page.pb\n",
      "Dumped tool data for input_pipeline.pb to custom_classifier_logs/train/plugins/profile/2022_07_19_11_23_03/endri-VivoBook-ASUSLaptop-X570DD-M570DD.input_pipeline.pb\n",
      "Dumped tool data for tensorflow_stats.pb to custom_classifier_logs/train/plugins/profile/2022_07_19_11_23_03/endri-VivoBook-ASUSLaptop-X570DD-M570DD.tensorflow_stats.pb\n",
      "Dumped tool data for kernel_stats.pb to custom_classifier_logs/train/plugins/profile/2022_07_19_11_23_03/endri-VivoBook-ASUSLaptop-X570DD-M570DD.kernel_stats.pb\n",
      "\n"
     ]
    },
    {
     "name": "stdout",
     "output_type": "stream",
     "text": [
      "209/209 [==============================] - 281s 1s/step - loss: 4.8834 - accuracy: 0.0085 - val_loss: 4.8691 - val_accuracy: 0.0108\n",
      "Epoch 2/2\n",
      "209/209 [==============================] - 249s 1s/step - loss: 4.8704 - accuracy: 0.0100 - val_loss: 4.8619 - val_accuracy: 0.0180\n"
     ]
    },
    {
     "data": {
      "text/plain": [
       "<tensorflow.python.keras.callbacks.History at 0x7ff37231f0a0>"
      ]
     },
     "execution_count": 17,
     "metadata": {},
     "output_type": "execute_result"
    }
   ],
   "source": [
    "train_generator = get_train_generator()\n",
    "valid_generator = get_valid_generator()\n",
    "\n",
    "tb_callback = tf.keras.callbacks.TensorBoard(log_dir=\"custom_classifier_logs\")\n",
    "\n",
    "model.fit(train_generator, epochs=2,\n",
    "    validation_data=valid_generator,\n",
    "    callbacks=[tb_callback]\n",
    ")"
   ]
  },
  {
   "cell_type": "code",
   "execution_count": 18,
   "id": "7dd20a84",
   "metadata": {},
   "outputs": [
    {
     "name": "stdout",
     "output_type": "stream",
     "text": [
      "Found 836 images belonging to 133 classes.\n",
      "27/27 [==============================] - 7s 276ms/step - loss: 4.8481 - accuracy: 0.0156\n",
      "The accuracy in the test set is 0.016.\n"
     ]
    }
   ],
   "source": [
    "test_generator = get_test_generator()\n",
    "\n",
    "test_loss_custom, test_accuracy_custom = model.evaluate(test_generator)\n",
    "\n",
    "print(f\"The accuracy in the test set is {test_accuracy_custom:.3f}.\")"
   ]
  },
  {
   "cell_type": "code",
   "execution_count": 19,
   "id": "49b34d64",
   "metadata": {},
   "outputs": [
    {
     "name": "stdout",
     "output_type": "stream",
     "text": [
      "Downloading data from https://storage.googleapis.com/tensorflow/keras-applications/vgg16/vgg16_weights_tf_dim_ordering_tf_kernels_notop.h5\n",
      "58892288/58889256 [==============================] - 2s 0us/step\n"
     ]
    }
   ],
   "source": [
    "vgg_body = tf.keras.applications.VGG16(\n",
    "    weights=\"imagenet\",\n",
    "    include_top=False,\n",
    "    input_shape=(int(IMG_SIZE), int(IMG_SIZE), 3)\n",
    ")"
   ]
  },
  {
   "cell_type": "code",
   "execution_count": 20,
   "id": "d78b32f4",
   "metadata": {},
   "outputs": [],
   "source": [
    "vgg_body.trainable = False"
   ]
  },
  {
   "cell_type": "code",
   "execution_count": 21,
   "id": "07b8a96d",
   "metadata": {},
   "outputs": [],
   "source": [
    "inputs = tf.keras.layers.Input(shape=(int(IMG_SIZE), int(IMG_SIZE), 3))\n",
    "# We make sure that the vgg_body is running in inference mode here,\n",
    "# by passing `training=False`. This is important for fine-tuning, as you will\n",
    "# learn in a few paragraphs.\n",
    "x = vgg_body(inputs, training=False)\n",
    "# Convert features of shape `vgg_body.output_shape[1:]` to vectors\n",
    "x = tf.keras.layers.GlobalAveragePooling2D()(x)\n",
    "# A Dense classifier (categorical classification)\n",
    "outputs = tf.keras.layers.Dense(133, activation=\"softmax\")(x)\n",
    "\n",
    "vgg_model = tf.keras.Model(inputs, outputs)"
   ]
  },
  {
   "cell_type": "code",
   "execution_count": 22,
   "id": "a9ab2627",
   "metadata": {},
   "outputs": [
    {
     "name": "stdout",
     "output_type": "stream",
     "text": [
      "Model: \"functional_1\"\n",
      "_________________________________________________________________\n",
      "Layer (type)                 Output Shape              Param #   \n",
      "=================================================================\n",
      "input_3 (InputLayer)         [(None, 224, 224, 3)]     0         \n",
      "_________________________________________________________________\n",
      "vgg16 (Functional)           (None, 7, 7, 512)         14714688  \n",
      "_________________________________________________________________\n",
      "global_average_pooling2d_1 ( (None, 512)               0         \n",
      "_________________________________________________________________\n",
      "dense_2 (Dense)              (None, 133)               68229     \n",
      "=================================================================\n",
      "Total params: 14,782,917\n",
      "Trainable params: 68,229\n",
      "Non-trainable params: 14,714,688\n",
      "_________________________________________________________________\n"
     ]
    }
   ],
   "source": [
    "vgg_model.summary()"
   ]
  },
  {
   "cell_type": "code",
   "execution_count": 23,
   "id": "b534361e",
   "metadata": {},
   "outputs": [],
   "source": [
    "vgg_model.compile(\n",
    "    optimizer=tf.optimizers.Adam(learning_rate=float(LR)),\n",
    "    loss=tf.losses.categorical_crossentropy,\n",
    "    metrics=[\"accuracy\"]\n",
    ")"
   ]
  },
  {
   "cell_type": "code",
   "execution_count": 24,
   "id": "a218c55b",
   "metadata": {},
   "outputs": [
    {
     "name": "stdout",
     "output_type": "stream",
     "text": [
      "Found 6680 images belonging to 133 classes.\n",
      "Found 835 images belonging to 133 classes.\n",
      "Epoch 1/2\n",
      "209/209 [==============================] - 2520s 12s/step - loss: 4.8641 - accuracy: 0.0207 - val_loss: 4.7239 - val_accuracy: 0.0323\n",
      "Epoch 2/2\n",
      "209/209 [==============================] - 2559s 12s/step - loss: 4.6846 - accuracy: 0.0537 - val_loss: 4.5761 - val_accuracy: 0.0826\n"
     ]
    },
    {
     "data": {
      "text/plain": [
       "<tensorflow.python.keras.callbacks.History at 0x7ff370ae0460>"
      ]
     },
     "execution_count": 24,
     "metadata": {},
     "output_type": "execute_result"
    }
   ],
   "source": [
    "train_generator = get_train_generator()\n",
    "valid_generator = get_valid_generator()\n",
    "\n",
    "vgg_model.fit(train_generator, epochs=2,\n",
    "    validation_data=valid_generator\n",
    ")"
   ]
  },
  {
   "cell_type": "code",
   "execution_count": 25,
   "id": "f74a925c",
   "metadata": {},
   "outputs": [
    {
     "name": "stdout",
     "output_type": "stream",
     "text": [
      "Found 836 images belonging to 133 classes.\n",
      "27/27 [==============================] - 262s 10s/step - loss: 4.5577 - accuracy: 0.0885\n",
      "The accuracy in the test set is 0.089.\n"
     ]
    }
   ],
   "source": [
    "test_generator = get_test_generator()\n",
    "\n",
    "test_loss_vgg, test_accuracy_vgg = vgg_model.evaluate(test_generator)\n",
    "\n",
    "print(f\"The accuracy in the test set is {test_accuracy_vgg:.3f}.\")"
   ]
  },
  {
   "cell_type": "code",
   "execution_count": 26,
   "id": "2b5ed0e4",
   "metadata": {},
   "outputs": [
    {
     "name": "stdout",
     "output_type": "stream",
     "text": [
      "Downloading data from https://storage.googleapis.com/tensorflow/keras-applications/resnet/resnet50v2_weights_tf_dim_ordering_tf_kernels_notop.h5\n",
      "94674944/94668760 [==============================] - 4s 0us/step\n"
     ]
    }
   ],
   "source": [
    "resnet_body = tf.keras.applications.ResNet50V2(\n",
    "    weights=\"imagenet\",\n",
    "    include_top=False,\n",
    "    input_shape=(int(IMG_SIZE), int(IMG_SIZE), 3)\n",
    ")"
   ]
  },
  {
   "cell_type": "code",
   "execution_count": 27,
   "id": "3ebb5aeb",
   "metadata": {},
   "outputs": [],
   "source": [
    "resnet_body.trainable = False"
   ]
  },
  {
   "cell_type": "code",
   "execution_count": 28,
   "id": "88ec22e0",
   "metadata": {},
   "outputs": [],
   "source": [
    "inputs = tf.keras.layers.Input(shape=(int(IMG_SIZE), int(IMG_SIZE), 3))\n",
    "# We make sure that the vgg_body is running in inference mode here,\n",
    "# by passing `training=False`. This is important for fine-tuning, as you will\n",
    "# learn in a few paragraphs.\n",
    "x = resnet_body(inputs, training=False)\n",
    "# Convert features of shape `vgg_body.output_shape[1:]` to vectors\n",
    "x = tf.keras.layers.Flatten()(x)\n",
    "# A Dense classifier (categorical classification)\n",
    "outputs = tf.keras.layers.Dense(133, activation=\"softmax\")(x)\n",
    "\n",
    "resnet_model = tf.keras.Model(inputs, outputs)"
   ]
  },
  {
   "cell_type": "code",
   "execution_count": 29,
   "id": "97f0e593",
   "metadata": {},
   "outputs": [],
   "source": [
    "resnet_model.compile(\n",
    "    optimizer=tf.optimizers.Adam(learning_rate=float(LR)),\n",
    "    loss=tf.losses.categorical_crossentropy,\n",
    "    metrics=[\"accuracy\"]\n",
    ")"
   ]
  },
  {
   "cell_type": "code",
   "execution_count": 30,
   "id": "e13c4611",
   "metadata": {},
   "outputs": [
    {
     "name": "stdout",
     "output_type": "stream",
     "text": [
      "Found 6680 images belonging to 133 classes.\n",
      "Found 835 images belonging to 133 classes.\n",
      "Epoch 1/4\n",
      "209/209 [==============================] - 758s 4s/step - loss: 12.4688 - accuracy: 0.4555 - val_loss: 8.4943 - val_accuracy: 0.6527\n",
      "Epoch 2/4\n",
      "209/209 [==============================] - 906s 4s/step - loss: 9.5765 - accuracy: 0.6545 - val_loss: 10.0752 - val_accuracy: 0.6551\n",
      "Epoch 3/4\n",
      "209/209 [==============================] - 930s 4s/step - loss: 8.0102 - accuracy: 0.7232 - val_loss: 10.1710 - val_accuracy: 0.7018\n",
      "Epoch 4/4\n",
      "209/209 [==============================] - 820s 4s/step - loss: 7.4697 - accuracy: 0.7602 - val_loss: 10.4768 - val_accuracy: 0.6970\n"
     ]
    },
    {
     "data": {
      "text/plain": [
       "<tensorflow.python.keras.callbacks.History at 0x7ff36f65aaf0>"
      ]
     },
     "execution_count": 30,
     "metadata": {},
     "output_type": "execute_result"
    }
   ],
   "source": [
    "train_generator = get_train_generator()\n",
    "valid_generator = get_valid_generator()\n",
    "\n",
    "resnet_model.fit(train_generator, epochs=int(EPOCHS),\n",
    "    validation_data=valid_generator\n",
    ")"
   ]
  },
  {
   "cell_type": "code",
   "execution_count": 31,
   "id": "62788669",
   "metadata": {},
   "outputs": [
    {
     "name": "stdout",
     "output_type": "stream",
     "text": [
      "Found 836 images belonging to 133 classes.\n",
      "27/27 [==============================] - 94s 3s/step - loss: 11.6476 - accuracy: 0.6926\n",
      "The accuracy in the test set is 0.693.\n"
     ]
    }
   ],
   "source": [
    "test_generator = get_test_generator()\n",
    "\n",
    "test_loss_resnet, test_accuracy_resnet = resnet_model.evaluate(test_generator)\n",
    "\n",
    "print(f\"The accuracy in the test set is {test_accuracy_resnet:.3f}.\")\n",
    "\n"
   ]
  },
  {
   "cell_type": "code",
   "execution_count": 32,
   "id": "e22ec94a",
   "metadata": {},
   "outputs": [],
   "source": [
    "idx_to_class = {value: key for key, value in train_generator.class_indices.items()}\n",
    "\n",
    "def predict_breed(images):\n",
    "    probs = resnet_model.predict(images)\n",
    "    pred = tf.argmax(probs, axis=1)\n",
    "    label = idx_to_class[pred.numpy()[0]]\n",
    "    return label.split(\".\")[-1]"
   ]
  },
  {
   "cell_type": "code",
   "execution_count": 33,
   "id": "2ed97610",
   "metadata": {},
   "outputs": [
    {
     "data": {
      "image/png": "[encoded data removed]",
      "text/plain": [
       "<Figure size 432x288 with 1 Axes>"
      ]
     },
     "metadata": {
      "needs_background": "light"
     },
     "output_type": "display_data"
    },
    {
     "name": "stdout",
     "output_type": "stream",
     "text": [
      "This photo looks like a(n) Chinese_crested.\n"
     ]
    }
   ],
   "source": [
    "def predict_dog(image):\n",
    "    image = image[None,...]\n",
    "    if is_dog(image):\n",
    "        pred =  predict_breed(image)\n",
    "        print(f\"This photo looks like a(n) {pred}.\")\n",
    "        return\n",
    "\n",
    "    print(\"No dog detected\")\n",
    "\n",
    "image = train_generator.next()[0][0]\n",
    "plt.imshow(image)\n",
    "plt.show()\n",
    "pred = predict_dog(image)"
   ]
  },
  {
   "cell_type": "code",
   "execution_count": 34,
   "id": "6d9b4dd5",
   "metadata": {},
   "outputs": [],
   "source": [
    "for img_path in sorted(glob(\"check_images/*\")):\n",
    "    print(img_path)\n",
    "    img = Image.open(img_path)\n",
    "    img = img.resize((224, 224))\n",
    "    \n",
    "    plt.imshow(img)\n",
    "    plt.show()\n",
    "    \n",
    "    img = np.array(img)\n",
    "    predict_dog(img)"
   ]
  },
  {
   "cell_type": "code",
   "execution_count": 35,
   "id": "ccd38854",
   "metadata": {},
   "outputs": [
    {
     "name": "stdout",
     "output_type": "stream",
     "text": [
      "0.6925837397575378\n"
     ]
    }
   ],
   "source": [
    "print(test_accuracy_resnet)"
   ]
  },
  {
   "cell_type": "code",
   "execution_count": null,
   "id": "5d5981fc",
   "metadata": {},
   "outputs": [],
   "source": []
  }
 ],
 "metadata": {
  "kernelspec": {
   "display_name": "Python 3.8.13 ('env': venv)",
   "language": "python",
   "name": "python3"
  },
  "language_info": {
   "codemirror_mode": {
    "name": "ipython",
    "version": 3
   },
   "file_extension": ".py",
   "mimetype": "text/x-python",
   "name": "python",
   "nbconvert_exporter": "python",
   "pygments_lexer": "ipython3",
   "version": "3.8.13"
  },
  "vscode": {
   "interpreter": {
    "hash": "e23f8d582ed2482d50e5e8a67e771527e972a8e794f43bf056c418e5c4446710"
   }
  }
 },
 "nbformat": 4,
 "nbformat_minor": 5
}
